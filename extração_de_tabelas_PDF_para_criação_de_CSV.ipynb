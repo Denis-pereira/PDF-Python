{
  "nbformat": 4,
  "nbformat_minor": 0,
  "metadata": {
    "colab": {
      "name": "extração de tabelas PDF para criação de CSV",
      "provenance": [],
      "collapsed_sections": [],
      "authorship_tag": "ABX9TyP+BbrxIDjPgrqFpd/9SGZL",
      "include_colab_link": true
    },
    "kernelspec": {
      "name": "python3",
      "display_name": "Python 3"
    },
    "language_info": {
      "name": "python"
    }
  },
  "cells": [
    {
      "cell_type": "markdown",
      "metadata": {
        "id": "view-in-github",
        "colab_type": "text"
      },
      "source": [
        "<a href=\"https://colab.research.google.com/github/Denis-pereira/teste/blob/master/extra%C3%A7%C3%A3o_de_tabelas_PDF_para_cria%C3%A7%C3%A3o_de_CSV.ipynb\" target=\"_parent\"><img src=\"https://colab.research.google.com/assets/colab-badge.svg\" alt=\"Open In Colab\"/></a>"
      ]
    },
    {
      "cell_type": "markdown",
      "metadata": {
        "id": "-OL3R1ymr-OZ"
      },
      "source": [
        "# **Extract Table from PDF using Python (Guide)**\n",
        "\n",
        "\n",
        "<center><img src=\"https://pyshark.com/wp-content/uploads/2021/06/Extract-Tables-from-PDF-840x400.png?x56603g\" \n",
        "\n",
        "\n",
        "https://pyshark.com/extract-table-from-pdf-using-python/"
      ]
    },
    {
      "cell_type": "code",
      "metadata": {
        "id": "zp7SJIlFofPT"
      },
      "source": [
        "pip install tabula-py"
      ],
      "execution_count": null,
      "outputs": []
    },
    {
      "cell_type": "code",
      "metadata": {
        "id": "iWqokxObomkM"
      },
      "source": [
        "import tabula\n",
        "\n",
        "#pdf_path = \"https://sedl.org/afterschool/toolkits/science/pdf/ast_sci_data_tables_sample.pdf\"\n",
        "\n",
        "pdf_path =\"/content/ast_sci_data_tables_sample.pdf\" # aqui usei o meu google drive, mas vc pode colocar qualquer diretorio local "
      ],
      "execution_count": 19,
      "outputs": []
    },
    {
      "cell_type": "code",
      "metadata": {
        "id": "Td3fera3ooUi"
      },
      "source": [
        "dfs = tabula.read_pdf(pdf_path, pages='2')"
      ],
      "execution_count": 20,
      "outputs": []
    },
    {
      "cell_type": "code",
      "metadata": {
        "colab": {
          "base_uri": "https://localhost:8080/"
        },
        "id": "ifRtUMdiotuz",
        "outputId": "6d4119d4-a505-43f9-bf9f-c1874d452c4b"
      },
      "source": [
        "print(len(dfs))"
      ],
      "execution_count": 21,
      "outputs": [
        {
          "output_type": "stream",
          "text": [
            "2\n"
          ],
          "name": "stdout"
        }
      ]
    },
    {
      "cell_type": "code",
      "metadata": {
        "colab": {
          "base_uri": "https://localhost:8080/"
        },
        "id": "_i32hOOXowJC",
        "outputId": "759b7b67-d845-400f-b805-6c41f2a9b326"
      },
      "source": [
        "print(dfs[0])"
      ],
      "execution_count": 22,
      "outputs": [
        {
          "output_type": "stream",
          "text": [
            "    Speed (mph)           Driver  ...     Engine      Date\n",
            "0       407.447  Craig Breedlove  ...     GE J47    8/5/63\n",
            "1       413.199        Tom Green  ...     WE J46   10/2/64\n",
            "2       434.220       Art Arfons  ...     GE J79   10/5/64\n",
            "3       468.719  Craig Breedlove  ...     GE J79  10/13/64\n",
            "4       526.277  Craig Breedlove  ...     GE J79  10/15/65\n",
            "5       536.712       Art Arfons  ...     GE J79  10/27/65\n",
            "6       555.127  Craig Breedlove  ...     GE J79   11/2/65\n",
            "7       576.553       Art Arfons  ...     GE J79   11/7/65\n",
            "8       600.601  Craig Breedlove  ...     GE J79  11/15/65\n",
            "9       622.407    Gary Gabelich  ...     Rocket  10/23/70\n",
            "10      633.468    Richard Noble  ...  RR RG 146   10/4/83\n",
            "11      763.035       Andy Green  ...    RR Spey  10/15/97\n",
            "\n",
            "[12 rows x 5 columns]\n"
          ],
          "name": "stdout"
        }
      ]
    },
    {
      "cell_type": "code",
      "metadata": {
        "id": "x7GWAgVWo0jC"
      },
      "source": [
        "dfs[0].to_csv(\"first_table.csv\")"
      ],
      "execution_count": 23,
      "outputs": []
    },
    {
      "cell_type": "markdown",
      "metadata": {
        "id": "yuF6R_U5pugw"
      },
      "source": [
        "Outro exemplo pegando todas as tabelas da pagina 2 da pagina - https://sedl.org/afterschool/toolkits/science/pdf/ast_sci_data_tables_sample.pdf"
      ]
    },
    {
      "cell_type": "code",
      "metadata": {
        "id": "jR_Z92rMqDSL"
      },
      "source": [
        "for i in range(len(dfs)):\n",
        "    dfs[i].to_csv(f\"table_{i}.csv\")"
      ],
      "execution_count": 24,
      "outputs": []
    },
    {
      "cell_type": "code",
      "metadata": {
        "colab": {
          "base_uri": "https://localhost:8080/",
          "height": 421
        },
        "id": "i8TdxwnksXGF",
        "outputId": "a4ab92de-e307-4f9f-dc34-301ccc7dedc4"
      },
      "source": [
        "dfs[0] # apenas para visualizar"
      ],
      "execution_count": 25,
      "outputs": [
        {
          "output_type": "execute_result",
          "data": {
            "text/html": [
              "<div>\n",
              "<style scoped>\n",
              "    .dataframe tbody tr th:only-of-type {\n",
              "        vertical-align: middle;\n",
              "    }\n",
              "\n",
              "    .dataframe tbody tr th {\n",
              "        vertical-align: top;\n",
              "    }\n",
              "\n",
              "    .dataframe thead th {\n",
              "        text-align: right;\n",
              "    }\n",
              "</style>\n",
              "<table border=\"1\" class=\"dataframe\">\n",
              "  <thead>\n",
              "    <tr style=\"text-align: right;\">\n",
              "      <th></th>\n",
              "      <th>Speed (mph)</th>\n",
              "      <th>Driver</th>\n",
              "      <th>Car</th>\n",
              "      <th>Engine</th>\n",
              "      <th>Date</th>\n",
              "    </tr>\n",
              "  </thead>\n",
              "  <tbody>\n",
              "    <tr>\n",
              "      <th>0</th>\n",
              "      <td>407.447</td>\n",
              "      <td>Craig Breedlove</td>\n",
              "      <td>Spirit of America</td>\n",
              "      <td>GE J47</td>\n",
              "      <td>8/5/63</td>\n",
              "    </tr>\n",
              "    <tr>\n",
              "      <th>1</th>\n",
              "      <td>413.199</td>\n",
              "      <td>Tom Green</td>\n",
              "      <td>Wingfoot Express</td>\n",
              "      <td>WE J46</td>\n",
              "      <td>10/2/64</td>\n",
              "    </tr>\n",
              "    <tr>\n",
              "      <th>2</th>\n",
              "      <td>434.220</td>\n",
              "      <td>Art Arfons</td>\n",
              "      <td>Green Monster</td>\n",
              "      <td>GE J79</td>\n",
              "      <td>10/5/64</td>\n",
              "    </tr>\n",
              "    <tr>\n",
              "      <th>3</th>\n",
              "      <td>468.719</td>\n",
              "      <td>Craig Breedlove</td>\n",
              "      <td>Spirit of America</td>\n",
              "      <td>GE J79</td>\n",
              "      <td>10/13/64</td>\n",
              "    </tr>\n",
              "    <tr>\n",
              "      <th>4</th>\n",
              "      <td>526.277</td>\n",
              "      <td>Craig Breedlove</td>\n",
              "      <td>Spirit of America</td>\n",
              "      <td>GE J79</td>\n",
              "      <td>10/15/65</td>\n",
              "    </tr>\n",
              "    <tr>\n",
              "      <th>5</th>\n",
              "      <td>536.712</td>\n",
              "      <td>Art Arfons</td>\n",
              "      <td>Green Monster</td>\n",
              "      <td>GE J79</td>\n",
              "      <td>10/27/65</td>\n",
              "    </tr>\n",
              "    <tr>\n",
              "      <th>6</th>\n",
              "      <td>555.127</td>\n",
              "      <td>Craig Breedlove</td>\n",
              "      <td>Spirit of America, Sonic 1</td>\n",
              "      <td>GE J79</td>\n",
              "      <td>11/2/65</td>\n",
              "    </tr>\n",
              "    <tr>\n",
              "      <th>7</th>\n",
              "      <td>576.553</td>\n",
              "      <td>Art Arfons</td>\n",
              "      <td>Green Monster</td>\n",
              "      <td>GE J79</td>\n",
              "      <td>11/7/65</td>\n",
              "    </tr>\n",
              "    <tr>\n",
              "      <th>8</th>\n",
              "      <td>600.601</td>\n",
              "      <td>Craig Breedlove</td>\n",
              "      <td>Spirit of America, Sonic 1</td>\n",
              "      <td>GE J79</td>\n",
              "      <td>11/15/65</td>\n",
              "    </tr>\n",
              "    <tr>\n",
              "      <th>9</th>\n",
              "      <td>622.407</td>\n",
              "      <td>Gary Gabelich</td>\n",
              "      <td>Blue Flame</td>\n",
              "      <td>Rocket</td>\n",
              "      <td>10/23/70</td>\n",
              "    </tr>\n",
              "    <tr>\n",
              "      <th>10</th>\n",
              "      <td>633.468</td>\n",
              "      <td>Richard Noble</td>\n",
              "      <td>Thrust 2</td>\n",
              "      <td>RR RG 146</td>\n",
              "      <td>10/4/83</td>\n",
              "    </tr>\n",
              "    <tr>\n",
              "      <th>11</th>\n",
              "      <td>763.035</td>\n",
              "      <td>Andy Green</td>\n",
              "      <td>Thrust SSC</td>\n",
              "      <td>RR Spey</td>\n",
              "      <td>10/15/97</td>\n",
              "    </tr>\n",
              "  </tbody>\n",
              "</table>\n",
              "</div>"
            ],
            "text/plain": [
              "    Speed (mph)           Driver  ...     Engine      Date\n",
              "0       407.447  Craig Breedlove  ...     GE J47    8/5/63\n",
              "1       413.199        Tom Green  ...     WE J46   10/2/64\n",
              "2       434.220       Art Arfons  ...     GE J79   10/5/64\n",
              "3       468.719  Craig Breedlove  ...     GE J79  10/13/64\n",
              "4       526.277  Craig Breedlove  ...     GE J79  10/15/65\n",
              "5       536.712       Art Arfons  ...     GE J79  10/27/65\n",
              "6       555.127  Craig Breedlove  ...     GE J79   11/2/65\n",
              "7       576.553       Art Arfons  ...     GE J79   11/7/65\n",
              "8       600.601  Craig Breedlove  ...     GE J79  11/15/65\n",
              "9       622.407    Gary Gabelich  ...     Rocket  10/23/70\n",
              "10      633.468    Richard Noble  ...  RR RG 146   10/4/83\n",
              "11      763.035       Andy Green  ...    RR Spey  10/15/97\n",
              "\n",
              "[12 rows x 5 columns]"
            ]
          },
          "metadata": {
            "tags": []
          },
          "execution_count": 25
        }
      ]
    },
    {
      "cell_type": "code",
      "metadata": {
        "colab": {
          "base_uri": "https://localhost:8080/",
          "height": 204
        },
        "id": "1VDqty2dscCP",
        "outputId": "8f3acf4b-4ad3-4a2c-a075-8c81a1f3e990"
      },
      "source": [
        "dfs[1]"
      ],
      "execution_count": 26,
      "outputs": [
        {
          "output_type": "execute_result",
          "data": {
            "text/html": [
              "<div>\n",
              "<style scoped>\n",
              "    .dataframe tbody tr th:only-of-type {\n",
              "        vertical-align: middle;\n",
              "    }\n",
              "\n",
              "    .dataframe tbody tr th {\n",
              "        vertical-align: top;\n",
              "    }\n",
              "\n",
              "    .dataframe thead th {\n",
              "        text-align: right;\n",
              "    }\n",
              "</style>\n",
              "<table border=\"1\" class=\"dataframe\">\n",
              "  <thead>\n",
              "    <tr style=\"text-align: right;\">\n",
              "      <th></th>\n",
              "      <th>Time (drops of water)</th>\n",
              "      <th>Distance (cm)</th>\n",
              "    </tr>\n",
              "  </thead>\n",
              "  <tbody>\n",
              "    <tr>\n",
              "      <th>0</th>\n",
              "      <td>1</td>\n",
              "      <td>10,11,9</td>\n",
              "    </tr>\n",
              "    <tr>\n",
              "      <th>1</th>\n",
              "      <td>2</td>\n",
              "      <td>29, 31, 30</td>\n",
              "    </tr>\n",
              "    <tr>\n",
              "      <th>2</th>\n",
              "      <td>3</td>\n",
              "      <td>59, 58, 61</td>\n",
              "    </tr>\n",
              "    <tr>\n",
              "      <th>3</th>\n",
              "      <td>4</td>\n",
              "      <td>102, 100, 98</td>\n",
              "    </tr>\n",
              "    <tr>\n",
              "      <th>4</th>\n",
              "      <td>5</td>\n",
              "      <td>122, 125, 127</td>\n",
              "    </tr>\n",
              "  </tbody>\n",
              "</table>\n",
              "</div>"
            ],
            "text/plain": [
              "   Time (drops of water)  Distance (cm)\n",
              "0                      1        10,11,9\n",
              "1                      2     29, 31, 30\n",
              "2                      3     59, 58, 61\n",
              "3                      4   102, 100, 98\n",
              "4                      5  122, 125, 127"
            ]
          },
          "metadata": {
            "tags": []
          },
          "execution_count": 26
        }
      ]
    },
    {
      "cell_type": "code",
      "metadata": {
        "id": "J06Dl5GYsb3J"
      },
      "source": [
        ""
      ],
      "execution_count": null,
      "outputs": []
    }
  ]
}